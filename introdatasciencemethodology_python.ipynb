{
 "cells": [
  {
   "cell_type": "markdown",
   "metadata": {},
   "source": [
    "# Interactive Introduction to Data Science Methodology Notebook\n",
    "![alt text](https://www.python.org/static/community_logos/python-logo-master-v3-TM.png \"Title\")\n",
    "\n",
    "\n",
    "The first step in data science methodology is to ask a question in which data science can be used to solve it. Don't get caught up in the tools themselves or the data first.\n",
    "\n",
    "## __Step 1: Understanding different types of questions to ask in data science methodology__ \n",
    "\n",
    "### - Remember Questions: Who, what, where, or when did something happen?\n",
    "\n",
    "   - Sample Question: What browser is a particular user using to browse this site?\n",
    "   \n",
    "   <br>\n",
    "    \n",
    "   - Requirements: data collection & manipulation in SQL, R or Python(used in this notebook)\n",
    "   <br>  \n",
    "   \n",
    "### - Understand Questions: Can you summarize what happened?\n",
    "\n",
    "   - Sample Question: What browser do my users tend to use?\n",
    "   \n",
    "   <br>\n",
    "    \n",
    "   - Requirements: data aggregation and summarization\n",
    "   <br>   \n",
    "   \n",
    "### - Apply Questions: What happens when …? \n",
    "    \n",
    "- Sample Question: Is there a relationship between time spent under sun and plant height?  \n",
    "     \n",
    "      Y = f(x) \n",
    "   -  Y is plant height  \n",
    "   -  f is any model representative of the relationship \n",
    "   <br> \n",
    "   -  x is time plant spent in sun         \n",
    "   <br> \n",
    "     \n",
    "- Sample Question: Which animal is in a given image?        \n",
    "   \n",
    "      Y = f(x)\n",
    "  -  Y is {dog, cat, horse, other}\n",
    "  -  f represents any model that captures the relationship\n",
    "      <br>\n",
    " -  x would be images encoded into tabular form\n",
    "         \n",
    "    <br> \n",
    "     \n",
    "- Requirements: regression analysis(statistics modeling),classification(supervised learning/ML), hypothesis testing   \n",
    "     <br>    \n",
    "     \n",
    "### - Analyze Questions: What are the key parts and relationships of …?\n",
    " \n",
    "- Sample Question: What factors best predict electricity demand?\n",
    "  \n",
    "       Y =f(x)\n",
    "       \n",
    "   -  Y = quantity of electricity demanded\n",
    "       <br>\n",
    "   - f any model capturing relationship between your data and electricity demanded\n",
    "       <br>\n",
    "   - x probably has the features price, temperature, season, region,other features\n",
    "       \n",
    "     <br>\n",
    "- Requirements: regression analysis/feature sel(remove factors/predicting elec), classification,clustering \n",
    "   \n",
    " \n",
    "### - Evaluate Questions: Is this the best approach?\n",
    "\n",
    "   \n",
    "   - Sample Question: Can we save money by pricing different products better?\n",
    "    \n",
    "   <br>\n",
    "   - Requirements: regression analysis, classification, scenario analysis prediction\n",
    "  <br>\n",
    "  \n",
    "### - Create Questions: Can you predict what will happen to … under new conditions? \n",
    "\n",
    "   - Sample Question: Where should I place ad on webpage so viewer is most likely to click?\n",
    "    \n",
    "  <br>      \n",
    "   - Requirements: optimization, experimentation\n",
    "<br>   \n",
    "\n",
    "## __Step 2: Choose a set of data science tools__\n",
    "\n",
    "   - Factors to consider:\n",
    "      \n",
    "      <br> \n",
    "      \n",
    "      - Type of data you will analyze: Unstructured vs. Structured\n",
    "      \n",
    "       <br> \n",
    "       \n",
    "      - Language best suited for data: R, SQL, Python\n",
    "      \n",
    "      <br> \n",
    "      \n",
    "      - Depending on the type of question you seek to answer will dictate method used e.g. data aggregation (preprocessing/prep of raw) vs. data wrangling(prep during analysis/model building)\n",
    "      \n",
    "      <br>  \n",
    "      \n",
    "      - Visualizations you'd like \n",
    "\n",
    "## __Step 3: Locate the data you will use for analysis into Python__\n",
    "\n",
    "  Note the following: \n",
    "- For the purpose of this exercise we've already generated fake data(Mockaroo) stored in this Jupyter notebook.\n",
    "- I am using Python3 for data wrangling(pandas, numpy, scipy)                              \n",
    "- __We will now illustrate how to locate & read a JSON data file you want to use for analysis using the Python code below__\n",
    "- __Tip: To execute the Python code in the grey code cell below, click on it and press Shift + Enter & then clear the cell's output (if you wish)__\n",
    "                              \n",
    "                              Training models(scikit-learn) \n",
    "                              Visualizations (bokeh,seaborn, matplotlib)\n",
    "\n",
    "   \n"
   ]
  },
  {
   "cell_type": "code",
   "execution_count": null,
   "metadata": {},
   "outputs": [],
   "source": [
    "#testing out opening and reading JSON data file\n",
    "with open(\"/users/brandyguillory/Jupyter Files/fakedata_mockaroo.json\",\"r\") as File1:\n",
    "    Stuff_In_File = File1.read()\n",
    "print(Stuff_In_File)\n",
    "\n"
   ]
  },
  {
   "cell_type": "markdown",
   "metadata": {},
   "source": [
    "## Step 4: Importing the data to Python for analysis\n",
    "\n",
    "There are two core libraries used for data analysis in Python: \n",
    "- the pandas library used for advanced data manipulation, stores data in dataframe\n",
    "- the NumPy library for scientific computing, mathematical operations stores data in N dimensional arrays(1D,2D,3D)\n",
    "\n",
    "We will demonstrate both, first importing our data into Python using these libraries via the code below:\n"
   ]
  },
  {
   "cell_type": "code",
   "execution_count": null,
   "metadata": {},
   "outputs": [],
   "source": [
    "#loading libraries in memory for us to work with our data\n",
    "import pandas as pd\n",
    "import numpy as np\n"
   ]
  },
  {
   "cell_type": "markdown",
   "metadata": {},
   "source": [
    " We will now store our JSON data file into a pandas dataframe using the executable code below:"
   ]
  },
  {
   "cell_type": "code",
   "execution_count": null,
   "metadata": {},
   "outputs": [],
   "source": [
    "#storing our JSON file to a dataframe & load first sheet of JSON file into pandas dataframe\n",
    "jsonfile = '/users/brandyguillory/Jupyter Files/fakedata_mockaroo.json'\n",
    "df = pd.read_json(jsonfile, orient='columns')\n",
    "# There was 1000 rows in our JSON file of data, the below command will print our dataframe contents\n",
    "df.head(1000)"
   ]
  },
  {
   "cell_type": "markdown",
   "metadata": {},
   "source": [
    "We will now store our pandas dataframe into a numPY array using the executable code below:"
   ]
  },
  {
   "cell_type": "code",
   "execution_count": null,
   "metadata": {},
   "outputs": [],
   "source": [
    "numarray = df.values\n",
    "print(numarray)"
   ]
  }
 ],
 "metadata": {
  "kernelspec": {
   "display_name": "Python 3",
   "language": "python",
   "name": "python3"
  },
  "language_info": {
   "codemirror_mode": {
    "name": "ipython",
    "version": 3
   },
   "file_extension": ".py",
   "mimetype": "text/x-python",
   "name": "python",
   "nbconvert_exporter": "python",
   "pygments_lexer": "ipython3",
   "version": "3.7.0"
  }
 },
 "nbformat": 4,
 "nbformat_minor": 2
}
